{
 "cells": [
  {
   "cell_type": "code",
   "execution_count": 1,
   "id": "19c11676",
   "metadata": {},
   "outputs": [],
   "source": [
    "#import thư viên turtle\n",
    "import turtle\n",
    "#Khai báo 1 đối tượng đồ họa\n",
    "sv = turtle.Turtle()\n"
   ]
  },
  {
   "cell_type": "code",
   "execution_count": null,
   "id": "86b2bc36",
   "metadata": {},
   "outputs": [],
   "source": []
  }
 ],
 "metadata": {
  "kernelspec": {
   "display_name": "Python 3 (ipykernel)",
   "language": "python",
   "name": "python3"
  },
  "language_info": {
   "codemirror_mode": {
    "name": "ipython",
    "version": 3
   },
   "file_extension": ".py",
   "mimetype": "text/x-python",
   "name": "python",
   "nbconvert_exporter": "python",
   "pygments_lexer": "ipython3",
   "version": "3.11.3"
  }
 },
 "nbformat": 4,
 "nbformat_minor": 5
}
