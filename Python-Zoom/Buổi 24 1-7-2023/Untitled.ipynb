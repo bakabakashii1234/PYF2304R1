{
 "cells": [
  {
   "cell_type": "code",
   "execution_count": 3,
   "id": "d08d660c",
   "metadata": {},
   "outputs": [],
   "source": [
    "class Ingredients:\n",
    "    def __init__(self, name, types, price):\n",
    "        self.name = name\n",
    "        self.types = types\n",
    "        self.price = price\n",
    "    def __str__(self):\n",
    "        return f\"Name: {self.name}, Type: {self.types}, Price: {self.price}\""
   ]
  },
  {
   "cell_type": "code",
   "execution_count": 4,
   "id": "f443cd28",
   "metadata": {},
   "outputs": [
    {
     "name": "stdout",
     "output_type": "stream",
     "text": [
      "['Toan']\n",
      "['Toan', 'Van']\n"
     ]
    }
   ],
   "source": [
    "from tkinter import *\n",
    "from tkinter import messagebox\n",
    "\n",
    "# tạo cửa sổ window\n",
    "window = Tk()\n",
    "#Tạo tiêu đề\n",
    "window.title(\"bookstore manager\")\n",
    "\n",
    "#Tạo list để lưu các thành phần lại\n",
    "ingredient_list = []\n",
    "\n",
    "def add_ingredient():\n",
    "    name_value= name.get()\n",
    "    type_value= types.get()\n",
    "    price_value= price.get()\n",
    "    if name_value== \"\" or type_value== \"\" or price_value== \"\":\n",
    "        messagebox.showerror(\"Ingredient\", \"Please enter name and type and price!\")\n",
    "    else:\n",
    "        #lấy giá trị nhập vào đưa vào class\n",
    "        new_ingredient= Ingredients(name_value, type_value, int(price_value))\n",
    "        #Lưu vào list để hiển thị\n",
    "        ingredient_list.append(new_ingredient)\n",
    "        #In ra list\n",
    "        print([ingredient.name for ingredient in ingredient_list])\n",
    "        messagebox.showinfo(\"Ingredient\", f\"Added {name_value} successfully!\")\n",
    "def delete_ingredient():\n",
    "    delete_name = search.get()\n",
    "    check = False\n",
    "    for i in range(len(ingredient_list)):\n",
    "        if ingredient_list[i].name == delete_name:\n",
    "            del ingredient_list[i]\n",
    "            messagebox.showinfo(\"Ingredient\", f\"Delete {delete_name} successfully!\")\n",
    "            print([ingredient.name for ingredient in ingredient_list])\n",
    "            check = True\n",
    "            break\n",
    "    if check == False:\n",
    "        messagebox.showerror(\"Delete Ingredient\", \"Cannot find ingredient!\")\n",
    "def search_ingredient():\n",
    "    search_name = search.get()\n",
    "    check = False\n",
    "    \n",
    "    for i in range(len(ingredient_list)):\n",
    "        if ingredient_list[i].name == search_name:\n",
    "            check = True\n",
    "            break\n",
    "    if check == False:\n",
    "        messagebox.showerror(\"Search Ingredient\", \"Cannot find ingredient!\")        \n",
    "    else:\n",
    "        messagebox.showinfo(\"Search Ingredient\", ingredient_list[i])\n",
    "def update_price():\n",
    "    \n",
    "#Tạo label\n",
    "lbl_name = Label(window, text = \"Name: \")\n",
    "lbl_type = Label(window, text = \"Type: \")\n",
    "lbl_price = Label(window, text = \"Price: \")\n",
    "#Tạo entry\n",
    "name = Entry(window)\n",
    "types = Entry(window)\n",
    "price = Entry(window)\n",
    "search= Entry(window)\n",
    "#Tạo button\n",
    "btn_add = Button(window, text = \"Add\", command = add_ingredient)\n",
    "btn_delete = Button(window, text = \"Delete\", command = delete_ingredient)\n",
    "btn_reset = Button(window, text = \"Reset\")\n",
    "btn_search = Button(window, text = \"Search\", command = search_ingredient)\n",
    "btn_update = Button(window, text = \"Update\")\n",
    "#Tạo vị trí đối tượng trên cửa sổ\n",
    "lbl_name.grid(row = 0, column = 0)\n",
    "name.grid(row = 0, column = 1)\n",
    "lbl_type.grid(row = 1, column = 0)\n",
    "types.grid(row = 1, column = 1)\n",
    "lbl_price.grid(row = 2, column = 0)\n",
    "price.grid(row = 2, column = 1)\n",
    "btn_update.grid(row = 2, column = 2)\n",
    "btn_add.grid(row = 3, column = 0)\n",
    "btn_delete.grid(row = 3, column = 1)\n",
    "btn_reset.grid(row = 3, column = 2)\n",
    "search.grid(row = 4, column = 0)\n",
    "btn_search.grid(row = 4, column = 1)\n",
    "\n",
    "#kích hoạt window\n",
    "window.mainloop()"
   ]
  },
  {
   "cell_type": "code",
   "execution_count": null,
   "id": "8106ae83",
   "metadata": {},
   "outputs": [],
   "source": []
  }
 ],
 "metadata": {
  "kernelspec": {
   "display_name": "Python 3 (ipykernel)",
   "language": "python",
   "name": "python3"
  },
  "language_info": {
   "codemirror_mode": {
    "name": "ipython",
    "version": 3
   },
   "file_extension": ".py",
   "mimetype": "text/x-python",
   "name": "python",
   "nbconvert_exporter": "python",
   "pygments_lexer": "ipython3",
   "version": "3.11.3"
  }
 },
 "nbformat": 4,
 "nbformat_minor": 5
}
