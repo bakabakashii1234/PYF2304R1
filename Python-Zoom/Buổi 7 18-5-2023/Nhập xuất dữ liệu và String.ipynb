{
 "cells": [
  {
   "cell_type": "markdown",
   "id": "7ac14915",
   "metadata": {},
   "source": [
    "# Nhập xuất dữ liệu và String\n",
    "## Cách nhập xuất dữ liệu"
   ]
  },
  {
   "cell_type": "markdown",
   "id": "0f202ae8",
   "metadata": {},
   "source": [
    "### Xuất dữ liệu ra màn hình\n",
    "Để in các nội dung mà chúng ta mong muốn ra màn hình, ta sử dụng lệnh print()"
   ]
  },
  {
   "cell_type": "code",
   "execution_count": null,
   "id": "a6d3f260",
   "metadata": {},
   "outputs": [],
   "source": [
    "# Ví dụ: In ra nội dung \"python is very easy\"\n"
   ]
  },
  {
   "cell_type": "markdown",
   "id": "7733925a",
   "metadata": {},
   "source": [
    "### Các cách custom với lệnh print"
   ]
  },
  {
   "cell_type": "markdown",
   "id": "292ab570",
   "metadata": {},
   "source": [
    "Để in một nội dung kèm theo giá trị của biến, ta có các cách sau:"
   ]
  },
  {
   "cell_type": "code",
   "execution_count": 2,
   "id": "20ff912c",
   "metadata": {},
   "outputs": [],
   "source": [
    "food_1 = \"chocolate\"\n",
    "food_2 = \"sandwich\"\n",
    "\n",
    "#I love chocolate and I hate sandwich\n"
   ]
  },
  {
   "cell_type": "code",
   "execution_count": 1,
   "id": "6407a448",
   "metadata": {},
   "outputs": [
    {
     "name": "stdout",
     "output_type": "stream",
     "text": [
      "I love chocolate and I hate sandwich\n"
     ]
    }
   ],
   "source": [
    "# In trực tiếp\n",
    "print(\"I love chocolate and I hate sandwich\")"
   ]
  },
  {
   "cell_type": "code",
   "execution_count": 6,
   "id": "27d098b8",
   "metadata": {},
   "outputs": [
    {
     "name": "stdout",
     "output_type": "stream",
     "text": [
      "I love chocolate and I hate sandwich\n"
     ]
    }
   ],
   "source": [
    "# In bằng cách ghép các nội dung với nhau\n",
    "print(\"I love \" + food_1 + \" and I hate \" + food_2)"
   ]
  },
  {
   "cell_type": "code",
   "execution_count": 9,
   "id": "717666f2",
   "metadata": {},
   "outputs": [
    {
     "name": "stdout",
     "output_type": "stream",
     "text": [
      "I love chocolate and I hate sandwich\n"
     ]
    }
   ],
   "source": [
    "# Sử dụng String Format\n",
    "# String literals\n",
    "# end=\"\" kí tự không xuống dòng\n",
    "#hàm print(f\"\") là hàm in chuỗi có chưa biến\n",
    "print(f\"I love {food_1} and I hate {food_2}\")"
   ]
  },
  {
   "cell_type": "code",
   "execution_count": null,
   "id": "c7276e05",
   "metadata": {},
   "outputs": [],
   "source": [
    "# Sử dụng nhiều lệnh print\n",
    "print(\"chu vi la\", end=\"\")\n",
    "print(chu_vi)"
   ]
  },
  {
   "cell_type": "markdown",
   "id": "e10788fb",
   "metadata": {},
   "source": [
    "### Nhập dữ liệu\n",
    "Để nhập dữ liệu vào chương trình python, chúng ta sử dụng hàm input()"
   ]
  },
  {
   "cell_type": "code",
   "execution_count": 11,
   "id": "b8b8afd3",
   "metadata": {
    "scrolled": true
   },
   "outputs": [
    {
     "name": "stdout",
     "output_type": "stream",
     "text": [
      "please input your nametan\n",
      "tan\n",
      "<class 'str'>\n"
     ]
    }
   ],
   "source": [
    "name = input(\"please input your name: \")\n",
    "print(name)\n",
    "print(type(name))"
   ]
  },
  {
   "cell_type": "code",
   "execution_count": 18,
   "id": "842b380e",
   "metadata": {},
   "outputs": [
    {
     "name": "stdout",
     "output_type": "stream",
     "text": [
      "please input your name: 123\n",
      "123\n",
      "<class 'int'>\n"
     ]
    }
   ],
   "source": [
    "#type casting(ép kiểu dữ liệu)\n",
    "name = int(input(\"please input your name: \"))\n",
    "print(name)\n",
    "print(type(name))"
   ]
  },
  {
   "cell_type": "markdown",
   "id": "337f9c15",
   "metadata": {},
   "source": [
    "#### Thực hành: Viết chương trình nhập vào chiều dài và chiều rộng của hình chữ nhật, sau đó in ra chu vi và diện tích của hình chữ nhật đó"
   ]
  },
  {
   "cell_type": "code",
   "execution_count": 19,
   "id": "add68103",
   "metadata": {},
   "outputs": [
    {
     "name": "stdout",
     "output_type": "stream",
     "text": [
      "nhap chieu dai hinh chu nhat: 12\n",
      "nhap chieu rong hinh chu nhat: 5\n"
     ]
    }
   ],
   "source": [
    "# Nhập các kích thước của hình chữ nhật\n",
    "#kí tự \"-\" khi đặt tên sẽ bị lỗi\n",
    "chieu_dai = int(input(\"nhap chieu dai hinh chu nhat: \"))\n",
    "chieu_rong = int(input(\"nhap chieu rong hinh chu nhat: \"))"
   ]
  },
  {
   "cell_type": "code",
   "execution_count": 21,
   "id": "7a1cd73e",
   "metadata": {},
   "outputs": [],
   "source": [
    "# Tính toán chu vi, diện tích\n",
    "chu_vi = (chieu_dai+chieu_rong)*2\n",
    "dien_tich = chieu_dai*chieu_rong"
   ]
  },
  {
   "cell_type": "code",
   "execution_count": 29,
   "id": "d0adf735",
   "metadata": {},
   "outputs": [
    {
     "name": "stdout",
     "output_type": "stream",
     "text": [
      "chu vi là:  34 diện tích là:  60\n",
      "chu vi là: 34, diện tích là: 60\n",
      "chu vi là: 34 diện tích là: 60"
     ]
    }
   ],
   "source": [
    "# In kết quả ra màn hình bằng 3 cách\n",
    "print(\"chu vi là: \", chu_vi, \"diện tích là: \", dien_tich)\n",
    "print(f\"chu vi là: {chu_vi}, diện tích là: {dien_tich}\")\n",
    "print(\"chu vi là: \", end=\"\")\n",
    "print(chu_vi, end=\"\")\n",
    "print(\" diện tích là: \", end=\"\")\n",
    "print(dien_tich, end=\"\")"
   ]
  },
  {
   "cell_type": "markdown",
   "id": "fb54cb77",
   "metadata": {},
   "source": [
    "#### Thực hành: Viết chương trình nhập vào số đo cạnh và mã màu của tam giác đều, sau đó sử dụng turtle để vẽ ra hình tam giác có số đo và màu tương ứng"
   ]
  },
  {
   "cell_type": "code",
   "execution_count": null,
   "id": "7583b308",
   "metadata": {},
   "outputs": [],
   "source": []
  },
  {
   "cell_type": "markdown",
   "id": "fa7cb208",
   "metadata": {},
   "source": [
    "## Cú pháp import"
   ]
  },
  {
   "cell_type": "markdown",
   "id": "ab2a2ea5",
   "metadata": {},
   "source": [
    "Để sử dụng một module từ bên ngoài, chúng ta sẽ sử dụng từ khóa import. Sau đây là ví dụ về một số cách import phổ biến."
   ]
  },
  {
   "cell_type": "markdown",
   "id": "bd6de377",
   "metadata": {},
   "source": [
    "### Random một giá trị ngẫu nhiên"
   ]
  },
  {
   "cell_type": "code",
   "execution_count": null,
   "id": "ce5547f5",
   "metadata": {},
   "outputs": [],
   "source": []
  },
  {
   "cell_type": "markdown",
   "id": "dfa93dc0",
   "metadata": {},
   "source": [
    "### Thực hiện các phép toán số học"
   ]
  },
  {
   "cell_type": "code",
   "execution_count": 8,
   "id": "4f06f722",
   "metadata": {},
   "outputs": [],
   "source": [
    "# import toàn bộ module"
   ]
  },
  {
   "cell_type": "code",
   "execution_count": null,
   "id": "6b9e471b",
   "metadata": {},
   "outputs": [],
   "source": [
    "# import một phần trong module"
   ]
  },
  {
   "cell_type": "markdown",
   "id": "391969e7",
   "metadata": {},
   "source": [
    "## Xử lý String trong python"
   ]
  },
  {
   "cell_type": "markdown",
   "id": "ab461669",
   "metadata": {},
   "source": [
    "### String là gì?\n",
    "String là một chuỗi gồm các ký tự Unicode"
   ]
  },
  {
   "cell_type": "markdown",
   "id": "94a27b90",
   "metadata": {},
   "source": [
    "### Khởi tạo một string"
   ]
  },
  {
   "cell_type": "code",
   "execution_count": 30,
   "id": "b14f4fcc",
   "metadata": {},
   "outputs": [],
   "source": [
    "# one-line string\n",
    "string = \"hello world\""
   ]
  },
  {
   "cell_type": "code",
   "execution_count": 34,
   "id": "9cc506a7",
   "metadata": {},
   "outputs": [],
   "source": [
    "# multi-line string(in dạng nhiều dòng)\n",
    "string = \"\"\"hello \n",
    "how are you\n",
    "im fine\n",
    "thank you\"\"\"\n"
   ]
  },
  {
   "cell_type": "markdown",
   "id": "8f4270fd",
   "metadata": {},
   "source": [
    "### Các thao tác phổ biến với string"
   ]
  },
  {
   "cell_type": "code",
   "execution_count": 35,
   "id": "c825f890",
   "metadata": {},
   "outputs": [
    {
     "name": "stdout",
     "output_type": "stream",
     "text": [
      "11\n"
     ]
    }
   ],
   "source": [
    "# Kiểm tra độ dài string\n",
    "length_string = \"hello world\"\n",
    "print(len(length_string))"
   ]
  },
  {
   "cell_type": "code",
   "execution_count": 38,
   "id": "6de96621",
   "metadata": {},
   "outputs": [
    {
     "name": "stdout",
     "output_type": "stream",
     "text": [
      "l\n",
      "l\n"
     ]
    }
   ],
   "source": [
    "# Truy xuất ký tự bằng cơ chế indexing và reverse indexing\n",
    "# lấy dữ liệu tại vị trí khác nhau trong chuỗi\n",
    "# vị trí bắt đầu trong chuỗi là số 0, vị trí cuối cùng là -1\n",
    "#indexing(lấy theo từ trái sang phải(số là dương))\n",
    "string = \"hello world\"\n",
    "print(string[2])\n",
    "#reverse indexing(lấy theo từ phải sang trái(số âm))\n",
    "string = \"hello world\"\n",
    "print(string[-8])"
   ]
  },
  {
   "cell_type": "markdown",
   "id": "a4f949d9",
   "metadata": {},
   "source": [
    "#### Thực hành: Viết chương trình nhập vào một chuỗi bất kỳ, sau đó in ra ký tự đầu tiên và ký tự cuối cùng của chuỗi đó."
   ]
  },
  {
   "cell_type": "code",
   "execution_count": 41,
   "id": "14833f18",
   "metadata": {},
   "outputs": [
    {
     "name": "stdout",
     "output_type": "stream",
     "text": [
      "nhap chuoi: hello\n",
      "h\n",
      "o\n"
     ]
    }
   ],
   "source": [
    "string = input(\"nhap chuoi: \")\n",
    "print(string[0])\n",
    "print(string[-1])"
   ]
  },
  {
   "cell_type": "code",
   "execution_count": 59,
   "id": "9aad2f16",
   "metadata": {},
   "outputs": [
    {
     "name": "stdout",
     "output_type": "stream",
     "text": [
      "Long\n",
      "Ln\n",
      "string\n",
      "Ln,yh\n",
      "Lgyo3-si\n",
      "gnirts,7-5-3,nohtyp,gnoL\n"
     ]
    }
   ],
   "source": [
    "# Cắt string theo index\n",
    "#cú pháp: <tên biến>[start:end+1:step]\n",
    "content = \"Long,python,3-5-7,string\"\n",
    "print(content[0:4:1])\n",
    "print(content[0:4:2])\n",
    "print(content[-6:])\n",
    "print(content[:10:2])\n",
    "print(content[::3])\n",
    "print(content[::-1])  # đảo ngược chuỗi"
   ]
  },
  {
   "cell_type": "code",
   "execution_count": 61,
   "id": "6ec63f90",
   "metadata": {},
   "outputs": [
    {
     "name": "stdout",
     "output_type": "stream",
     "text": [
      "helloworld\n",
      "hellohellohello\n"
     ]
    }
   ],
   "source": [
    "# Ghép chuỗi và lặp chuỗi\n",
    "a = \"hello\"\n",
    "b = \"world\"\n",
    "print(a+b) #ghép chuỗi\n",
    "print(a*3) #lặp chuỗi"
   ]
  },
  {
   "cell_type": "markdown",
   "id": "84c2dcb9",
   "metadata": {},
   "source": [
    "#### Thực hành: Xử lý và in ra các thông tin tương ứng trong chuỗi"
   ]
  },
  {
   "cell_type": "code",
   "execution_count": 1,
   "id": "cd71f135",
   "metadata": {},
   "outputs": [
    {
     "name": "stdout",
     "output_type": "stream",
     "text": [
      "18\n"
     ]
    }
   ],
   "source": []
  },
  {
   "cell_type": "markdown",
   "id": "7cbd965f",
   "metadata": {},
   "source": [
    "### Các hàm thông dụng khi xử lý string"
   ]
  },
  {
   "cell_type": "code",
   "execution_count": 2,
   "id": "eb5932a1",
   "metadata": {},
   "outputs": [
    {
     "name": "stdout",
     "output_type": "stream",
     "text": [
      "18\n"
     ]
    }
   ],
   "source": [
    "# len\n",
    "content = \"Python Fundamental\"\n",
    "print(len(content))"
   ]
  },
  {
   "cell_type": "code",
   "execution_count": 5,
   "id": "6bef6d33",
   "metadata": {},
   "outputs": [
    {
     "name": "stdout",
     "output_type": "stream",
     "text": [
      "0\n"
     ]
    }
   ],
   "source": [
    "# count\n",
    "content = \"Python Fundamental\"\n",
    "print(content.count(\"python\"))"
   ]
  },
  {
   "cell_type": "code",
   "execution_count": 11,
   "id": "1582bbd8",
   "metadata": {},
   "outputs": [
    {
     "name": "stdout",
     "output_type": "stream",
     "text": [
      "MÁY NƯỚC NÓNG \n",
      "máy nước nóng \n",
      "Máy nước nóng \n"
     ]
    }
   ],
   "source": [
    "# upper, lower\n",
    "content = \"Máy Nước nóng \"\n",
    "print(content.upper())\n",
    "print(content.lower())\n",
    "#Hàm in hoa chữ cái đầu tiên\n",
    "print(content.capitalize())"
   ]
  },
  {
   "cell_type": "code",
   "execution_count": null,
   "id": "741964e7",
   "metadata": {},
   "outputs": [],
   "source": [
    "# lstrip, rstrip, strip\n",
    "content = \"      Máy nước nóng    \"\n",
    "content2 = \"      ,,,,Máy nước nóng,,,,,,\"\n",
    "content3 = \"hello con heo\"\n",
    "#qui tắc xóa là nếu gặp kí tự muốn xóa đầu tiên,\n",
    "#thì sẽ xóa được còn không gặp kí tự muốn xóa đầu thì,\n",
    "#không xóa đc\n",
    "#xóa từ bên trái vào\n",
    "print(content.lstrip())\n",
    "#xóa từ bên trái vào\n",
    "print(content.rstrip())\n",
    "#xóa ở 2 bên\n",
    "print(content.strip())\n",
    "#xóa khoảng cách và dấu phẩy\n",
    "print(content2.lstrip().lstrip(',').rstrip(','))\n",
    "\n",
    "print(content3.lstrip(\"hello\"))"
   ]
  },
  {
   "cell_type": "code",
   "execution_count": 24,
   "id": "62180d52",
   "metadata": {},
   "outputs": [
    {
     "name": "stdout",
     "output_type": "stream",
     "text": [
      "['My', 'name', 'is', 'Tan']\n"
     ]
    }
   ],
   "source": [
    "# split\n",
    "# tách ra từng chữ\n",
    "content = \"My name is Tan\"\n",
    "print(content.split())"
   ]
  },
  {
   "cell_type": "markdown",
   "id": "032ba1fc",
   "metadata": {},
   "source": []
  }
 ],
 "metadata": {
  "kernelspec": {
   "display_name": "Python 3 (ipykernel)",
   "language": "python",
   "name": "python3"
  },
  "language_info": {
   "codemirror_mode": {
    "name": "ipython",
    "version": 3
   },
   "file_extension": ".py",
   "mimetype": "text/x-python",
   "name": "python",
   "nbconvert_exporter": "python",
   "pygments_lexer": "ipython3",
   "version": "3.11.3"
  }
 },
 "nbformat": 4,
 "nbformat_minor": 5
}
